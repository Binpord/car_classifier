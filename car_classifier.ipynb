{
 "cells": [
  {
   "cell_type": "markdown",
   "id": "adjacent-quebec",
   "metadata": {},
   "source": [
    "# Car classifier\n",
    "\n",
    "This is a car classifier web application. You can upload photo of a car and it will try and classify it. Only german sedans by manufacturers Audi, BMW and Mercedes-Benz are currently supported.\n",
    "\n",
    "Underneath its using a fine-tuned [ResNet-50](https://arxiv.org/abs/1512.03385) architecture and on my dataset (fetched from [Microsoft Bing image search](https://www.bing.com/?scope=images&nr=1&FORM=NOFORM) API) it shows test accuracy of almost 70% which doesn't seem much, but thats all I was able to achieve. This is a toy project, don't go too harsh on me.\n",
    "\n",
    "---"
   ]
  },
  {
   "cell_type": "code",
   "execution_count": null,
   "id": "accepting-developer",
   "metadata": {},
   "outputs": [],
   "source": [
    "from fastai.vision.all import *\n",
    "from fastai.vision.widgets import *\n",
    "\n",
    "learn = load_learner('car_classifier.pkl')\n",
    "\n",
    "file_upload = widgets.FileUpload()\n",
    "image_output = widgets.Output()\n",
    "classify_button = widgets.Button(description='Classify')\n",
    "text_output = widgets.Label()\n",
    "\n",
    "def on_click_classify(change):\n",
    "    text_output.value = ''\n",
    "    if not file_upload.data:\n",
    "        text_output.value = 'Upload car image to classify...'\n",
    "        return\n",
    "    \n",
    "    text_output.value = 'Don\\'t worry, prediction might take some time...'\n",
    "    \n",
    "    image = PILImage.create(file_upload.data[-1])\n",
    "    image_output.clear_output()\n",
    "    with image_output:\n",
    "        display(image.to_thumb(128,128))\n",
    "\n",
    "    pred, pred_idx, probs = learn.predict(image)\n",
    "    text_output.value = f'This looks like an {pred}!\\n(Probability {probs[pred_idx]:.04f})'\n",
    "\n",
    "classify_button.on_click(on_click_classify)\n",
    "\n",
    "VBox([\n",
    "    widgets.Label('Select your car!'),\n",
    "    file_upload,\n",
    "    classify_button,\n",
    "    image_output,\n",
    "    text_output\n",
    "])"
   ]
  },
  {
   "cell_type": "code",
   "execution_count": null,
   "id": "presidential-framing",
   "metadata": {},
   "outputs": [],
   "source": []
  }
 ],
 "metadata": {
  "kernelspec": {
   "display_name": "fastai",
   "language": "python",
   "name": "fastai"
  },
  "language_info": {
   "codemirror_mode": {
    "name": "ipython",
    "version": 3
   },
   "file_extension": ".py",
   "mimetype": "text/x-python",
   "name": "python",
   "nbconvert_exporter": "python",
   "pygments_lexer": "ipython3",
   "version": "3.9.6"
  }
 },
 "nbformat": 4,
 "nbformat_minor": 5
}
